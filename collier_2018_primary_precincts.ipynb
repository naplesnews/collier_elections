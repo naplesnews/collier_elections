{
 "cells": [
  {
   "cell_type": "markdown",
   "metadata": {},
   "source": [
    "# Collier County demographics and turnout, by precinct\n",
    "\n",
    "- This narrows the data down to age, race, and voter turnout for each office in Collier County's 2018 primary. \n",
    "\n",
    "- The code can be modified to focus on specific candidates or party affiliation of voters."
   ]
  },
  {
   "cell_type": "code",
   "execution_count": 13,
   "metadata": {},
   "outputs": [],
   "source": [
    "import pandas as pd"
   ]
  },
  {
   "cell_type": "code",
   "execution_count": 14,
   "metadata": {},
   "outputs": [],
   "source": [
    "#importing precinct demographics\n",
    "\n",
    "dm = pd.read_csv('precinct_demographics_collier.csv') \n",
    "\n",
    "#source (July): https://web.archive.org/web/20180904150351/https://www.colliervotes.com/Portals/Collier/Documents/pdf/MonthEndReports/2018%20JULY/July%20Summary%20Precinct%20Demographic%20Analysis.pdf\n",
    "#most recent reports: https://www.colliervotes.com/Voting-System-Maps-Stats/Voter-Demographics\n",
    "#converted to csv with https://tabula.technology/"
   ]
  },
  {
   "cell_type": "code",
   "execution_count": 15,
   "metadata": {},
   "outputs": [],
   "source": [
    "dm.dropna(subset=['Total'], inplace=True) #dropping \"total\" for each category"
   ]
  },
  {
   "cell_type": "code",
   "execution_count": 16,
   "metadata": {},
   "outputs": [],
   "source": [
    "dm.drop(columns=\"Unnamed: 8\", inplace=True) #dropping blank column added by Tabula"
   ]
  },
  {
   "cell_type": "code",
   "execution_count": 17,
   "metadata": {},
   "outputs": [],
   "source": [
    "dm.drop(columns=[\"DEM\",\"REP\",\"NPA\",\"OTHER\",\"LPF\"], inplace=True) #dropping subcategories to reshape data"
   ]
  },
  {
   "cell_type": "code",
   "execution_count": 18,
   "metadata": {},
   "outputs": [],
   "source": [
    "dm = dm.pivot(index=\"Precinct\",columns=\"Unnamed: 1\") #setting precinct as index"
   ]
  },
  {
   "cell_type": "code",
   "execution_count": 19,
   "metadata": {},
   "outputs": [],
   "source": [
    "dm.to_csv('collier_precinct_dm.csv') #saving csv; fixed headers in Excel"
   ]
  },
  {
   "cell_type": "code",
   "execution_count": 20,
   "metadata": {},
   "outputs": [],
   "source": [
    "dm = pd.read_csv('collier_precinct_dm.csv') #opening edited csv"
   ]
  },
  {
   "cell_type": "code",
   "execution_count": 21,
   "metadata": {},
   "outputs": [],
   "source": [
    "results = pd.read_csv('PrecinctResults_2018-08-29T00_21_28.csv')\n",
    "#source (2018 primary elections): https://web.archive.org/web/20180904151351/https://s3.amazonaws.com/results.voterfocus.com/enr/exports/reports/CLL/1920/PrecinctResults_2018-08-31T14:27:26.csv\n",
    "#updates: https://enr.electionsfl.org/CLL/1920/Reports/"
   ]
  },
  {
   "cell_type": "code",
   "execution_count": 22,
   "metadata": {},
   "outputs": [],
   "source": [
    "results = results[['PrecinctCode', 'TotalVotes','Contest']] #limiting to essential columns"
   ]
  },
  {
   "cell_type": "code",
   "execution_count": 23,
   "metadata": {},
   "outputs": [],
   "source": [
    "dm = pd.merge(results, dm, how='inner', left_on='PrecinctCode', right_on='Precinct',\n",
    "         sort=True) #merging results data with precinct data"
   ]
  },
  {
   "cell_type": "code",
   "execution_count": 24,
   "metadata": {},
   "outputs": [],
   "source": [
    "turnout = pd.DataFrame(dm.groupby(['Contest','Precinct'])['TotalVotes'].sum()) \n",
    "#dataframe for turnout for each race, by precinct"
   ]
  },
  {
   "cell_type": "code",
   "execution_count": 25,
   "metadata": {},
   "outputs": [],
   "source": [
    "dm = pd.merge(dm, turnout, on=['Contest','Precinct'])\n",
    "#merging turnout numbers and the main dataframe"
   ]
  },
  {
   "cell_type": "code",
   "execution_count": 26,
   "metadata": {},
   "outputs": [],
   "source": [
    "dm.drop_duplicates(['Contest','Precinct'],keep=\"first\",inplace=True)\n",
    "#dropping duplicates - only looking at overall turnout per race"
   ]
  },
  {
   "cell_type": "code",
   "execution_count": 27,
   "metadata": {},
   "outputs": [],
   "source": [
    "dm.drop(['PrecinctCode','TotalVotes_x'], axis=1, inplace=True) #dropping repetitive columns"
   ]
  },
  {
   "cell_type": "code",
   "execution_count": 28,
   "metadata": {},
   "outputs": [],
   "source": [
    "dm.rename(columns={\"**TOTAL**\": \"Registered Voters\", \"TotalVotes_y\": \"Votes cast\"}, inplace=True)\n",
    "#renaming columns for clarity"
   ]
  },
  {
   "cell_type": "code",
   "execution_count": 29,
   "metadata": {},
   "outputs": [],
   "source": [
    "turnout = dm[['Contest','Precinct','Votes cast']] #totalling turnout by office "
   ]
  },
  {
   "cell_type": "code",
   "execution_count": 30,
   "metadata": {},
   "outputs": [],
   "source": [
    "turnout = turnout.pivot(index=\"Precinct\",columns=\"Contest\") #pivoting dataframe and making Precinct the index"
   ]
  },
  {
   "cell_type": "code",
   "execution_count": 31,
   "metadata": {},
   "outputs": [],
   "source": [
    "dm.drop_duplicates(['Precinct'], inplace=True, keep=\"first\")\n",
    "#dropping Precinct duplicates"
   ]
  },
  {
   "cell_type": "code",
   "execution_count": 32,
   "metadata": {},
   "outputs": [
    {
     "name": "stderr",
     "output_type": "stream",
     "text": [
      "/anaconda3/lib/python3.6/site-packages/pandas/core/reshape/merge.py:543: UserWarning: merging between different levels can give an unintended result (1 levels on the left, 2 on the right)\n",
      "  warnings.warn(msg, UserWarning)\n"
     ]
    }
   ],
   "source": [
    "dm = pd.merge(dm, turnout, on=['Precinct']) #merging main dataframe and turnout numbers"
   ]
  },
  {
   "cell_type": "code",
   "execution_count": 33,
   "metadata": {
    "scrolled": true
   },
   "outputs": [],
   "source": [
    "all_turnout = pd.read_json('collier_turnout.json')\n",
    "#source: voter turnout map at (used chrome dev tools to pull json from source code)\n",
    "#http://web.archive.org/web/20180904184138/https://enr.electionsfl.org/CLL/1920/Map/VoterTurnout/\n",
    "#updates: https://enr.electionsfl.org/CLL/1920/Map/VoterTurnout/"
   ]
  },
  {
   "cell_type": "code",
   "execution_count": 34,
   "metadata": {},
   "outputs": [],
   "source": [
    "dm = pd.merge(dm, all_turnout, how='inner', left_on='Precinct', right_on='PrecinctCode',\n",
    "         sort=True) \n",
    "#adding total turnout to original dataframe"
   ]
  },
  {
   "cell_type": "code",
   "execution_count": 35,
   "metadata": {},
   "outputs": [],
   "source": [
    "dm.drop(['PrecinctCode','PrecinctId','PrecinctName','ReportingStatus','TotalVotes','Participating',\\\n",
    "         'Votes cast','Contest','Registered Voters'], axis=1,inplace=True)\n",
    "#dropping unnecessary columns"
   ]
  },
  {
   "cell_type": "code",
   "execution_count": 36,
   "metadata": {},
   "outputs": [],
   "source": [
    "dm = dm.replace({',':''},regex=True).apply(pd.to_numeric,1) #making numbers numeric"
   ]
  },
  {
   "cell_type": "code",
   "execution_count": 37,
   "metadata": {},
   "outputs": [],
   "source": [
    "dm['Female'] = dm[\"BLACK FEMALE\"] + dm[\"WHITE FEMALE\"] + dm[\"HISPANIC FEMALE\"]\\\n",
    "                    + dm[\"OTHER FEMALE\"] #creating \"Female\" category"
   ]
  },
  {
   "cell_type": "code",
   "execution_count": 38,
   "metadata": {},
   "outputs": [],
   "source": [
    "dm['Male']= dm[\"BLACK MALE\"] + dm[\"WHITE MALE\"] + dm[\"HISPANIC MALE\"]\\\n",
    "                    + dm[\"OTHER MALE\"] #creating \"Male\" category"
   ]
  },
  {
   "cell_type": "code",
   "execution_count": 39,
   "metadata": {},
   "outputs": [],
   "source": [
    "dm = dm.set_index(\"Precinct\")"
   ]
  },
  {
   "cell_type": "code",
   "execution_count": 40,
   "metadata": {},
   "outputs": [],
   "source": [
    "pd.options.display.max_columns = None\n",
    "dm.to_csv('collier_2018_primary_precincts.csv')"
   ]
  }
 ],
 "metadata": {
  "kernelspec": {
   "display_name": "Python 3",
   "language": "python",
   "name": "python3"
  },
  "language_info": {
   "codemirror_mode": {
    "name": "ipython",
    "version": 3
   },
   "file_extension": ".py",
   "mimetype": "text/x-python",
   "name": "python",
   "nbconvert_exporter": "python",
   "pygments_lexer": "ipython3",
   "version": "3.6.5"
  }
 },
 "nbformat": 4,
 "nbformat_minor": 2
}
